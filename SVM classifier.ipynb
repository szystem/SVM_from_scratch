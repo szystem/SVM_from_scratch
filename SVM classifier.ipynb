{
 "cells": [
  {
   "cell_type": "markdown",
   "id": "e082252c",
   "metadata": {},
   "source": [
    "# SVM classifier from scratch\n",
    "In this project, I wrote a code to train a support vector machine classifier from scratch. The only advanced tool that I have used is scipy.optimize, necessary to minimize the loss function numerically."
   ]
  },
  {
   "cell_type": "code",
   "execution_count": 1,
   "id": "c6177253",
   "metadata": {},
   "outputs": [],
   "source": [
    "import numpy as np\n",
    "from matplotlib import pyplot as plt\n",
    "from scipy.spatial import distance_matrix\n",
    "from sklearn.svm import SVC\n",
    "from sklearn.model_selection import train_test_split\n",
    "from scipy.optimize import minimize \n",
    "from scipy.optimize import Bounds\n",
    "from scipy.optimize import LinearConstraint\n",
    "import math\n",
    "from sklearn.metrics import accuracy_score"
   ]
  },
  {
   "cell_type": "markdown",
   "id": "a37aea3b",
   "metadata": {},
   "source": [
    "The SVM is defined by two classes. $\\texttt{SVM_binary}$ is a binary classifier, taking $y \\in \\{-1, 1\\}$. Then $\\texttt{multiclass_SVM}$ takes arbitrary number of classes $y \\in \\mathbf{N}$. $\\texttt{multiclass_SVM}$ works by calling $\\texttt{SVM_binary}$ $\\frac{c(c-1)}{2}$ times, where $c$ is a number of different classes. Then, so called 1 VS 1 classification is performed. Having $\\frac{c(c-1)}{2}$ classifiers trained, the new point is classified by each of them and final classification is simply a majority vote of all classifiers. \n",
    "\n",
    "The program can work with two kernels, gaussian and linear. "
   ]
  },
  {
   "cell_type": "markdown",
   "id": "cda8ebe4",
   "metadata": {},
   "source": [
    "The classifier minimizes the loss in the form of Lagrangian dual\n",
    "$$ \\max_v \\sum_{i=1}^n v_i-\\frac{1}{2}\\sum_{i=1}^n\\sum_{j=1}^nv_iy_i\\kappa(x_i,x_j)v_jy_j$$\n",
    "$$ \\textrm{subject to} \\sum_{i=1}^nv_iy_i=0 \\textrm{  and  } 0 \\leq v \\leq C$$"
   ]
  },
  {
   "cell_type": "markdown",
   "id": "d340e0d0",
   "metadata": {},
   "source": [
    "Then, the classifier is given by \n",
    "$$\\textrm{sgn}(g(x))$$\n",
    "where \n",
    "$$g(x)=a_0+\\sum_{i=1}^nv_iy_i\\kappa(x_i,x)$$\n",
    "and $a_0$ is calculated as \n",
    "$$\\frac{1}{|J|}\\sum_{j \\in J}\\left(y_j - \\sum_{i=1}^ny_iv_i\\kappa(x_i,x_j)\\right)$$\n",
    "where $J=\\{v_i: v_i\\in (0,C)\\}$"
   ]
  },
  {
   "cell_type": "markdown",
   "id": "85d64e12",
   "metadata": {},
   "source": [
    "$\\texttt{K_function(self,x)}$ works for a classifier trained using $X=\\left[x_1,\\ldots,x_n\\right]$, takes a new argument $x$ to be classified and returns a vector of scalar products $\\kappa(x_1,x),\\ldots,\\kappa(x_n,x)$"
   ]
  },
  {
   "cell_type": "code",
   "execution_count": 2,
   "id": "197ed870",
   "metadata": {},
   "outputs": [],
   "source": [
    "class SVM_binary: #assuming y is either -1 or 1\n",
    "    def __init__(self, kernel='linear', C=1, gamma='auto'): #C and gamma have the same function as in sklearn.SVC\n",
    "        self.kernel = kernel\n",
    "        self.C = C\n",
    "        self.gamma = gamma\n",
    "        \n",
    "    def K_function(self,x):\n",
    "        if(self.kernel=='linear'): return self.X@x\n",
    "        if(self.kernel=='rbf'): return np.exp(-self.rbf_gamma*np.power(distance_matrix(self.X,x.reshape((1,x.size)))[:,0],2))\n",
    "            \n",
    "    def fit(self,X,y):    \n",
    "        def gram_matrix(): #calculates gram matrix\n",
    "            if(self.kernel=='linear'): return np.array(X@X.T)\n",
    "            if(self.kernel=='rbf'):\n",
    "                if(self.gamma=='auto'): self.rbf_gamma=1/p\n",
    "                else: self.rbf_gamma=self.gamma\n",
    "                return np.array(np.exp(-self.rbf_gamma*np.power(distance_matrix(X,X),2)))\n",
    "\n",
    "        def optim_problem(v):  #loss function to be optimized\n",
    "            v_F=np.matrix(v)\n",
    "            return -float((np.matrix.sum(v_F))-v_F@K_hat@v_F.T/2)\n",
    "\n",
    "        n=len(y) #number of observarions\n",
    "        p=X.shape[1] #number of dimensions\n",
    "        y_F=y.reshape((n,1))\n",
    "        K=gram_matrix()\n",
    "        K_hat=y_F*y_F.T*K\n",
    "        bounds = Bounds(np.repeat(0,n), np.repeat(self.C,n)) #optimization constraints\n",
    "        linear_constraint = LinearConstraint(y_F.T,0, 0) #optimization constraints\n",
    "        \n",
    "        #return support vectors by minimizing loss function\n",
    "        self.V=minimize(optim_problem, np.repeat(0,n),method='trust-constr',constraints=linear_constraint,\n",
    "                 options={'verbose': 0}, bounds=bounds).x\n",
    "\n",
    "        #calculating a0\n",
    "        SV_indices=np.where(self.V>=0.00001)[0] #due to the numeric optimization, vectors smaller than a treshhold are treated as zeros\n",
    "        SVs=self.V[SV_indices]\n",
    "        J_indices=np.where((self.V>=0.00001) & (self.V<=self.C-0.00001))[0] #J are used to approximate a0 as an average\n",
    "        self.a0=0\n",
    "        for j in J_indices:\n",
    "            t_sum=0\n",
    "            for i in SV_indices:\n",
    "                t_sum+=self.V[i]*y[i]*K[i,j]\n",
    "            self.a0+=y[j]-t_sum\n",
    "        self.a0/=J_indices.size\n",
    "        \n",
    "        self.y=y\n",
    "        self.X=X\n",
    "\n",
    "    def predict(self,X):\n",
    "        def g_preclassifier(x): return self.a0+np.sum(self.y*self.V*self.K_function(x))\n",
    "        prediction=np.array([])\n",
    "        for i in range(X.shape[0]):\n",
    "            prediction=np.append(prediction,math.copysign(1,g_preclassifier(X[i,:])))\n",
    "        return prediction"
   ]
  },
  {
   "cell_type": "code",
   "execution_count": 3,
   "id": "299f2cd0",
   "metadata": {},
   "outputs": [],
   "source": [
    "class multiclass_SVM: #arbitrary y\n",
    "    def __init__(self, kernel='linear', C=1, gamma='auto'):\n",
    "        self.kernel = kernel\n",
    "        self.C = C\n",
    "        self.gamma = gamma\n",
    "        \n",
    "    def fit(self,X,y):\n",
    "        self.classes=np.array(list(set(y))) #stores set of different y\n",
    "        self.set_of_clf=[] #stores all binary classifiers\n",
    "        self.class_pairs=np.zeros(shape=(0,2)) #stores a history of comparisons made\n",
    "        \n",
    "        #this loop compares all possible pairs of classes\n",
    "        for i in range(self.classes.size):\n",
    "            for j in range(i+1,self.classes.size):\n",
    "                index_plus=self.classes[i] #this class is now \"-1 class\"\n",
    "                index_minus=self.classes[j] #this class is now \"+1 class\"\n",
    "                \n",
    "                #new_X and new_Y are subsets of X and y used for binary comparison\n",
    "                new_X=np.vstack((X[np.where(y==index_plus)[0],:],X[np.where(y==index_minus)[0],:]))\n",
    "                new_y=np.concatenate((np.repeat(1,np.where(y==index_plus)[0].size),np.repeat(-1,np.where(y==index_minus)[0].size)))\n",
    "                \n",
    "                clf=SVM_binary(kernel=self.kernel,C=self.C,gamma=self.gamma)\n",
    "                clf.fit(new_X,new_y)\n",
    "                self.set_of_clf.append(clf)\n",
    "                self.class_pairs=np.vstack((self.class_pairs,np.array((self.classes[i],self.classes[j])))) \n",
    "                \n",
    "    def predict(self, X): #assuming classes of X are a subset of classes used previously for training\n",
    "        n=X.shape[0]\n",
    "        \n",
    "        #temp_pairs stores pairs of categories compared by each binary classifier\n",
    "        temp_pairs_matrix=np.zeros(shape=(0,2))\n",
    "        for i in range(self.classes.size):\n",
    "            for j in range(i+1,self.classes.size):\n",
    "                temp_pairs_matrix=np.vstack((temp_pairs_matrix,(i,j)))\n",
    "        \n",
    "        #matrix of predictions counts how many times each new x is classified to each category by all binary classifiers\n",
    "        matrix_of_predictions=np.zeros(shape=(n,len(self.classes)))\n",
    "        for i in range(len(self.set_of_clf)):\n",
    "            prediction=self.set_of_clf[i].predict(X)\n",
    "            matrix_of_predictions[np.where(prediction==-1)[0],int(temp_pairs_matrix[i,1])]+=1\n",
    "            matrix_of_predictions[np.where(prediction==1)[0],int(temp_pairs_matrix[i,0])]+=1\n",
    "        prediction=np.array([]) #final vector to be returned\n",
    "        for i in range(n):\n",
    "            index=np.where(matrix_of_predictions[i,:]==np.max(matrix_of_predictions[i,:]))[0][0] #for each x choosing class which has the most votes\n",
    "            prediction=np.append(prediction,self.classes[index])\n",
    "        return prediction"
   ]
  },
  {
   "cell_type": "markdown",
   "id": "a70679f7",
   "metadata": {},
   "source": [
    "### Binary linear classification - hard margin"
   ]
  },
  {
   "cell_type": "code",
   "execution_count": 4,
   "id": "4505222c",
   "metadata": {},
   "outputs": [
    {
     "data": {
      "image/png": "[encoded data removed]",
      "text/plain": [
       "<Figure size 432x288 with 1 Axes>"
      ]
     },
     "metadata": {
      "needs_background": "light"
     },
     "output_type": "display_data"
    }
   ],
   "source": [
    "#creating and plotting the data set\n",
    "x_1=np.random.multivariate_normal([1,3], [[1,0],[0,1]], size=30) \n",
    "x_2=np.random.multivariate_normal([-2,-2], [[1,0],[0,1]], size=30) \n",
    "plt.scatter(np.array(x_1[:,0]),np.array(x_1[:,1]))\n",
    "plt.scatter(np.array(x_2[:,0]),np.array(x_2[:,1]))\n",
    "plt.show()\n",
    "X=np.vstack((x_1,x_2))\n",
    "y=np.concatenate((np.repeat(-1,30),np.repeat(1,30)))\n",
    "X_train,X_test,y_train,y_test=train_test_split(X,y)"
   ]
  },
  {
   "cell_type": "code",
   "execution_count": 7,
   "id": "6c0fe1c5",
   "metadata": {},
   "outputs": [],
   "source": [
    "#training the classifier\n",
    "clf=SVM_binary(C=np.inf)\n",
    "clf.fit(X_train,y_train)"
   ]
  },
  {
   "cell_type": "code",
   "execution_count": 10,
   "id": "68064bad",
   "metadata": {},
   "outputs": [
    {
     "name": "stdout",
     "output_type": "stream",
     "text": [
      "[-1.  1.  1.  1. -1. -1. -1.  1.  1.  1. -1.  1.  1.  1.  1.]\n",
      "1.0\n"
     ]
    }
   ],
   "source": [
    "#printing the result of classification\n",
    "print(clf.predict(X_test))\n",
    "#printing accuracy score\n",
    "print(accuracy_score(y_test, clf.predict(X_test)))"
   ]
  },
  {
   "cell_type": "markdown",
   "id": "94e05b8e",
   "metadata": {},
   "source": [
    "### Binary linear classification - soft margin - different regularization parameters C"
   ]
  },
  {
   "cell_type": "code",
   "execution_count": 11,
   "id": "f95104b5",
   "metadata": {},
   "outputs": [
    {
     "data": {
      "image/png": "[encoded data removed]",
      "text/plain": [
       "<Figure size 432x288 with 1 Axes>"
      ]
     },
     "metadata": {
      "needs_background": "light"
     },
     "output_type": "display_data"
    }
   ],
   "source": [
    "x_1=np.random.multivariate_normal([0,0], [[1,0],[0,1]], size=50) \n",
    "x_2=np.random.multivariate_normal([-1.5,-1.5], [[1,0],[0,1]], size=50) \n",
    "plt.scatter(np.array(x_1[:,0]),np.array(x_1[:,1]))\n",
    "plt.scatter(np.array(x_2[:,0]),np.array(x_2[:,1]))\n",
    "plt.show()\n",
    "X=np.vstack((x_1,x_2))\n",
    "y=np.concatenate((np.repeat(-1,50),np.repeat(1,50)))\n",
    "X_train,X_test,y_train,y_test=train_test_split(X,y)"
   ]
  },
  {
   "cell_type": "code",
   "execution_count": 12,
   "id": "ff1f4043",
   "metadata": {},
   "outputs": [],
   "source": [
    "#training classifiers with different regularization parameters\n",
    "clf0_001=SVM_binary(C=0.001)\n",
    "clf0_01=SVM_binary(C=0.01)\n",
    "clf0_1=SVM_binary(C=0.1)\n",
    "clf1=SVM_binary()\n",
    "clf0_001.fit(X_train,y_train)\n",
    "clf0_01.fit(X_train,y_train)\n",
    "clf0_1.fit(X_train,y_train)\n",
    "clf1.fit(X_train,y_train)"
   ]
  },
  {
   "cell_type": "code",
   "execution_count": 13,
   "id": "8d3362cd",
   "metadata": {
    "scrolled": true
   },
   "outputs": [
    {
     "name": "stdout",
     "output_type": "stream",
     "text": [
      "0.72\n",
      "0.8\n",
      "0.84\n",
      "0.8\n"
     ]
    }
   ],
   "source": [
    "print(accuracy_score(y_test, clf0_001.predict(X_test)))\n",
    "print(accuracy_score(y_test, clf0_01.predict(X_test)))\n",
    "print(accuracy_score(y_test, clf0_1.predict(X_test)))\n",
    "print(accuracy_score(y_test, clf1.predict(X_test)))"
   ]
  },
  {
   "cell_type": "markdown",
   "id": "c3c90a36",
   "metadata": {},
   "source": [
    "### Multiclass radial basis kernel classification"
   ]
  },
  {
   "cell_type": "code",
   "execution_count": 31,
   "id": "a3f08a68",
   "metadata": {},
   "outputs": [
    {
     "data": {
      "image/png": "[encoded data removed]",
      "text/plain": [
       "<Figure size 432x288 with 1 Axes>"
      ]
     },
     "metadata": {
      "needs_background": "light"
     },
     "output_type": "display_data"
    }
   ],
   "source": [
    "x_1=np.random.multivariate_normal([0,0], [[1,0],[0,1]], size=20) \n",
    "x_2=np.random.multivariate_normal([0,0], [[1,0],[0,1]], size=60) \n",
    "x_3=np.random.multivariate_normal([0,0], [[1,0],[0,1]], size=100)\n",
    "x_2=8*x_2/np.matrix((np.linalg.norm(x_2,axis=1))).T+1*x_2\n",
    "x_3=16*x_3/np.matrix((np.linalg.norm(x_3,axis=1))).T+1*x_3\n",
    "\n",
    "plt.scatter(np.array(x_1[:,0]),np.array(x_1[:,1]))\n",
    "plt.scatter(np.array(x_2[:,0]),np.array(x_2[:,1]))\n",
    "plt.scatter(np.array(x_3[:,0]),np.array(x_3[:,1]))\n",
    "plt.show()\n",
    "\n",
    "X=np.vstack((x_1,x_2,x_3))\n",
    "y=np.concatenate((np.repeat(1,20),np.repeat(6,60),np.repeat(2,100)))\n",
    "X_train,X_test,y_train,y_test=train_test_split(X,y)"
   ]
  },
  {
   "cell_type": "code",
   "execution_count": 32,
   "id": "ff35a6c3",
   "metadata": {
    "scrolled": true
   },
   "outputs": [],
   "source": [
    "clf=multiclass_SVM(kernel='rbf',C=np.inf)\n",
    "clf.fit(X_train,y_train)"
   ]
  },
  {
   "cell_type": "code",
   "execution_count": 33,
   "id": "bf6b05c9",
   "metadata": {},
   "outputs": [
    {
     "data": {
      "text/plain": [
       "1.0"
      ]
     },
     "execution_count": 33,
     "metadata": {},
     "output_type": "execute_result"
    }
   ],
   "source": [
    "accuracy_score(y_test,clf.predict(X_test))"
   ]
  }
 ],
 "metadata": {
  "kernelspec": {
   "display_name": "Python 3",
   "language": "python",
   "name": "python3"
  },
  "language_info": {
   "codemirror_mode": {
    "name": "ipython",
    "version": 3
   },
   "file_extension": ".py",
   "mimetype": "text/x-python",
   "name": "python",
   "nbconvert_exporter": "python",
   "pygments_lexer": "ipython3",
   "version": "3.8.8"
  }
 },
 "nbformat": 4,
 "nbformat_minor": 5
}
